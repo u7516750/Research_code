{
  "nbformat": 4,
  "nbformat_minor": 0,
  "metadata": {
    "colab": {
      "provenance": []
    },
    "kernelspec": {
      "name": "python3",
      "display_name": "Python 3"
    },
    "language_info": {
      "name": "python"
    }
  },
  "cells": [
    {
      "cell_type": "code",
      "source": [
        "import math\n",
        "from astropy.io import fits\n",
        "import numpy as np\n"
      ],
      "metadata": {
        "id": "axbPkBR_GjgK"
      },
      "execution_count": null,
      "outputs": []
    },
    {
      "cell_type": "markdown",
      "source": [
        "Using general method, Full well"
      ],
      "metadata": {
        "id": "fNK3bVjxH8Dn"
      }
    },
    {
      "cell_type": "code",
      "source": [
        "\n",
        "from astropy.io import fits\n",
        "import numpy as np\n",
        "\n",
        "# Load the stacked bias frame FITS file\n",
        "bias_hdul = fits.open('capture_0.033_20.033_0.fits')\n",
        "bias_frame = bias_hdul[0].data\n",
        "\n",
        "# Load the stacked dark frame FITS file\n",
        "dark_hdul = fits.open('capture_4000.0_4250.0_0.fits')\n",
        "dark_frame = dark_hdul[0].data\n",
        "\n",
        "# Calculate the median of the bias frame\n",
        "bias_median = np.median(bias_frame)\n",
        "\n",
        "# Subtract the bias median from the dark frame\n",
        "processed_dark_frame = dark_frame - bias_median\n",
        "\n",
        "# Calculate the median of the processed dark frame\n",
        "dark_median = np.median(processed_dark_frame)\n",
        "\n",
        "# Find the maximum pixel value in the processed dark frame\n",
        "signal_level = np.max(processed_dark_frame)\n",
        "\n",
        "# Calculate the full well capacity\n",
        "full_well_capacity = (signal_level - dark_median)*math.pow(10, -3)\n",
        "\n",
        "print(\"Full Well Capacity in K electrons:\", full_well_capacity)"
      ],
      "metadata": {
        "colab": {
          "base_uri": "https://localhost:8080/"
        },
        "id": "Lk0SumtfGkvV",
        "outputId": "6202c73b-8f6e-4494-a219-b68bc36d9b98"
      },
      "execution_count": null,
      "outputs": [
        {
          "output_type": "stream",
          "name": "stdout",
          "text": [
            "Full Well Capacity in K electrons: 14.284\n"
          ]
        }
      ]
    },
    {
      "cell_type": "code",
      "source": [
        "import numpy as np\n",
        "from astropy.io import fits\n",
        "\n",
        "# Load the stacked bias frame FITS file\n",
        "bias_hdul = fits.open('capture_0.033_20.033_0.fits')\n",
        "bias_frame = bias_hdul[0].data\n",
        "\n",
        "# Load the stacked dark frame FITS file\n",
        "dark_hdul = fits.open('capture_4000.0_4250.0_0.fits')\n",
        "dark_frame = dark_hdul[0].data\n",
        "\n",
        "# Subtract the bias frame from the dark frame\n",
        "processed_dark_frame = dark_frame - bias_frame\n",
        "\n",
        "# Calculate the pixel values above which 1% of the pixels become saturated\n",
        "pixel_values = processed_dark_frame.flatten()\n",
        "pixel_values.sort()\n",
        "n_pixels = len(pixel_values)\n",
        "n_saturated = int(0.01 * n_pixels)\n",
        "full_well_value = pixel_values[-n_saturated]\n",
        "\n",
        "print(\"Full Well Capacity:\", full_well_value)\n",
        "\n"
      ],
      "metadata": {
        "colab": {
          "base_uri": "https://localhost:8080/"
        },
        "id": "_-kNfX_pGyi2",
        "outputId": "04e6d70b-2d4b-401d-ba70-b88c6f0b95a6"
      },
      "execution_count": null,
      "outputs": [
        {
          "output_type": "stream",
          "name": "stdout",
          "text": [
            "Full Well Capacity: 370\n"
          ]
        }
      ]
    },
    {
      "cell_type": "code",
      "source": [
        "import numpy as np\n",
        "from astropy.io import fits\n",
        "\n",
        "# Load the stacked bias frame FITS file\n",
        "bias_hdul = fits.open('capture_0.033_20.033_0.fits')\n",
        "bias_frame = bias_hdul[0].data\n",
        "\n",
        "# Load the stacked dark frame FITS file\n",
        "dark_hdul = fits.open('capture_4000.0_4250.0_0.fits')\n",
        "dark_frame = dark_hdul[0].data\n",
        "\n",
        "# Subtract the bias frame from the dark frame\n",
        "processed_dark_frame = dark_frame - bias_frame\n",
        "\n",
        "# Flatten the processed dark frame\n",
        "flattened_dark_frame = processed_dark_frame.flatten()\n",
        "\n",
        "# Calculate the mean and standard deviation of the pixel values\n",
        "mean_value = np.mean(flattened_dark_frame)\n",
        "std_value = np.std(flattened_dark_frame)\n",
        "\n",
        "# Calculate the full well value as μ - 3σ\n",
        "full_well_value = mean_value - (3 * std_value)\n",
        "\n",
        "print(\"Full Well Capacity:\", full_well_value)\n"
      ],
      "metadata": {
        "colab": {
          "base_uri": "https://localhost:8080/"
        },
        "id": "Qb84wY_KJA4T",
        "outputId": "c9b8cb79-fb05-424a-9e39-b7945246f77c"
      },
      "execution_count": null,
      "outputs": [
        {
          "output_type": "stream",
          "name": "stdout",
          "text": [
            "Full Well Capacity: -391.1000828594145\n"
          ]
        }
      ]
    },
    {
      "cell_type": "markdown",
      "source": [
        "If I had"
      ],
      "metadata": {
        "id": "JilT0snARR9R"
      }
    },
    {
      "cell_type": "code",
      "source": [],
      "metadata": {
        "id": "Zu2eB4aYKaIF"
      },
      "execution_count": null,
      "outputs": []
    }
  ]
}