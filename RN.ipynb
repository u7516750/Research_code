{
  "nbformat": 4,
  "nbformat_minor": 0,
  "metadata": {
    "colab": {
      "provenance": []
    },
    "kernelspec": {
      "name": "python3",
      "display_name": "Python 3"
    },
    "language_info": {
      "name": "python"
    }
  },
  "cells": [
    {
      "cell_type": "code",
      "execution_count": 1,
      "metadata": {
        "id": "Ehp7wgxfwxDG"
      },
      "outputs": [],
      "source": [
        "import astropy\n",
        "from astropy.io import fits"
      ]
    },
    {
      "cell_type": "code",
      "source": [
        "import pandas as pd\n",
        "import numpy as np\n"
      ],
      "metadata": {
        "id": "JJ5wL0Wswzno"
      },
      "execution_count": 2,
      "outputs": []
    },
    {
      "cell_type": "code",
      "source": [
        "image_name = 'capture_0.033_20.033_0.fits'\n",
        "hdu_list = fits.open(image_name)\n",
        "hdu_list.info()\n",
        "hdu = hdu_list[0]\n",
        "hdu.header"
      ],
      "metadata": {
        "colab": {
          "base_uri": "https://localhost:8080/"
        },
        "id": "K_s0EGDXw7UD",
        "outputId": "c49fc110-871d-4141-91c3-bbab94ae823c"
      },
      "execution_count": 21,
      "outputs": [
        {
          "output_type": "stream",
          "name": "stdout",
          "text": [
            "Filename: capture_0.033_20.033_0.fits\n",
            "No.    Name      Ver    Type      Cards   Dimensions   Format\n",
            "  0  PRIMARY       1 PrimaryHDU      19   (1296, 1040)   int16 (rescales to uint16)   \n"
          ]
        },
        {
          "output_type": "execute_result",
          "data": {
            "text/plain": [
              "SIMPLE  =                    T / conforms to FITS standard                      \n",
              "BITPIX  =                   16 / array data type                                \n",
              "NAXIS   =                    2 / number of array dimensions                     \n",
              "NAXIS1  =                 1296                                                  \n",
              "NAXIS2  =                 1040                                                  \n",
              "COMMENT   FITS (Flexible Image Transport System) format is defined in 'Astronomy\n",
              "COMMENT   and Astrophysics', volume 376, page 359; bibcode: 2001A&A...376..359H \n",
              "DEPTH   =                   14 / bits per pixel                                 \n",
              "DITMET  =                0.033 / Integration time in ms (metadata)              \n",
              "FRAMTM  =               16.961 / Frame time in ms (metadata)                    \n",
              "BUFTIM  =   0.0363049524631211 / seconds for buffer to fill                     \n",
              "PROGNM  = 'capture.c'          / EDT framegrabber routine used for capture      \n",
              "TIME    = '2020-06-19 11:35:42' / AEST date and time of image                   \n",
              "ACTIVE  = '(8,8)-(1288,8)-(8,1032)-(1288,1032)' / Coordinates of standard pixel \n",
              "FPATEMP =                  -60 / Temperature of detector                        \n",
              "AMBTEMP =               -6.383 / Ambient Temperature                            \n",
              "BSCALE  =                    1                                                  \n",
              "BZERO   =                32768                                                  \n",
              "DITSER  =                0.033 / Integration time in ms (serial)                "
            ]
          },
          "metadata": {},
          "execution_count": 21
        }
      ]
    },
    {
      "cell_type": "markdown",
      "source": [
        "Read noise from biase frames"
      ],
      "metadata": {
        "id": "FNrss5jcgCQp"
      }
    },
    {
      "cell_type": "markdown",
      "source": [
        "Read noise in terms of electrons"
      ],
      "metadata": {
        "id": "HjrNsly5BBv1"
      }
    },
    {
      "cell_type": "code",
      "source": [
        "# Load the FITS file\n",
        "hdul = fits.open('capture_0.033_20.033_0.fits')\n",
        "data = hdul[0].data\n",
        "\n",
        "# Calculate the standard deviation of each row in the image\n",
        "row_std = np.std(data, axis=1)\n",
        "\n",
        "# Calculate the mean of the row standard deviations\n",
        "mean_std = np.mean(row_std)\n",
        "\n",
        "print(f\"Read noise (from mean standard deviation): {mean_std}\")\n"
      ],
      "metadata": {
        "colab": {
          "base_uri": "https://localhost:8080/"
        },
        "id": "9U568RPQA9mw",
        "outputId": "6c4618ac-84ca-4ad5-998e-1a2363944660"
      },
      "execution_count": 22,
      "outputs": [
        {
          "output_type": "stream",
          "name": "stdout",
          "text": [
            "Read noise (from mean standard deviation): 79.24483160722772\n"
          ]
        }
      ]
    },
    {
      "cell_type": "markdown",
      "source": [
        "Read noise in terms of electron per sqrt of scan"
      ],
      "metadata": {
        "id": "505KKUGBAwEN"
      }
    },
    {
      "cell_type": "code",
      "source": [
        "import numpy as np\n",
        "from astropy.io import fits\n",
        "\n",
        "def calculate_read_noise(bias_file):\n",
        "    with fits.open(bias_file) as hdulist:\n",
        "        data = hdulist[0].data\n",
        "\n",
        "    row_std = np.std(data, axis=1)\n",
        "    read_noise = (np.mean(row_std)/(np.sqrt(2)))\n",
        "    #read_noise = (np.std(data)/(np.sqrt(2)))\n",
        "    return read_noise\n",
        "\n",
        "# Example usage\n",
        "bias_file = 'capture_0.033_20.033_0.fits'\n",
        "read_noise = calculate_read_noise(bias_file)\n",
        "print(\"Read Noise:\", read_noise)\n",
        "\n",
        "\n",
        "\n"
      ],
      "metadata": {
        "colab": {
          "base_uri": "https://localhost:8080/"
        },
        "id": "20Xy27pcxlCD",
        "outputId": "b99bdb98-d06d-4f15-d2e1-a0c143aad769"
      },
      "execution_count": 19,
      "outputs": [
        {
          "output_type": "stream",
          "name": "stdout",
          "text": [
            "Read Noise: 56.03455780345678\n"
          ]
        }
      ]
    }
  ]
}