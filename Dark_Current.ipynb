{
  "nbformat": 4,
  "nbformat_minor": 0,
  "metadata": {
    "colab": {
      "provenance": []
    },
    "kernelspec": {
      "name": "python3",
      "display_name": "Python 3"
    },
    "language_info": {
      "name": "python"
    }
  },
  "cells": [
    {
      "cell_type": "code",
      "execution_count": null,
      "metadata": {
        "id": "YVtZLSGqg8_o"
      },
      "outputs": [],
      "source": [
        "import astropy"
      ]
    },
    {
      "cell_type": "code",
      "source": [
        "import numpy as np\n",
        "import pandas as pd"
      ],
      "metadata": {
        "id": "SeKkuQKVH7_s"
      },
      "execution_count": null,
      "outputs": []
    },
    {
      "cell_type": "code",
      "source": [
        "image_name = 'capture_4000.0_4250.0_0.fits'\n",
        "hdu_list = fits.open(image_name)\n",
        "hdu_list.info()\n",
        "hdu = hdu_list[0]\n",
        "hdu.header\n",
        "#hdu.shape"
      ],
      "metadata": {
        "colab": {
          "base_uri": "https://localhost:8080/"
        },
        "id": "iu9kohQchb7B",
        "outputId": "6844a371-0517-4ecb-a3a5-ae67bb6b297c"
      },
      "execution_count": null,
      "outputs": [
        {
          "output_type": "stream",
          "name": "stdout",
          "text": [
            "Filename: capture_4000.0_4250.0_0.fits\n",
            "No.    Name      Ver    Type      Cards   Dimensions   Format\n",
            "  0  PRIMARY       1 PrimaryHDU      15   (1296, 1040)   int16   \n"
          ]
        },
        {
          "output_type": "execute_result",
          "data": {
            "text/plain": [
              "SIMPLE  =                    T / conforms to FITS standard                      \n",
              "BITPIX  =                   16 / array data type                                \n",
              "NAXIS   =                    2 / number of array dimensions                     \n",
              "NAXIS1  =                 1296                                                  \n",
              "NAXIS2  =                 1040                                                  \n",
              "COMMENT   FITS (Flexible Image Transport System) format is defined in 'Astronomy\n",
              "COMMENT   and Astrophysics', volume 376, page 359; bibcode: 2001A&A...376..359H \n",
              "DEPTH   =                   14 / bits per pixel                                 \n",
              "DITMET  =             26214.46 / Integration time in ms (metadata)              \n",
              "FRAMTM  =             61.50481 / Frame time in ms (metadata)                    \n",
              "BUFTIM  =     7.17059924634844 / seconds for buffer to fill                     \n",
              "PROGNM  = 'capture.c'          / EDT framegrabber routine used for capture      \n",
              "TIME    = '2020-08-04 19:48:54' / AEST date and time of image                   \n",
              "ACTIVE  = '(8,8)-(1288,8)-(8,1032)-(1288,1032)' / Coordinates of standard pixel \n",
              "DITSER  =               4000.0 / Integration time in ms (serial)                "
            ]
          },
          "metadata": {},
          "execution_count": 30
        }
      ]
    },
    {
      "cell_type": "code",
      "source": [
        "# Load the stacked dark frame fits data\n",
        "dark_frame_file = 'capture_4000.0_4250.0_0.fits'\n",
        "hdul = fits.open(dark_frame_file)\n",
        "dark_frame_data = hdul[0].data\n",
        "\n",
        "# Check the shape of the data array\n",
        "data_shape = dark_frame_data.shape\n",
        "\n",
        "# Determine the array type based on its shape\n",
        "if len(data_shape) == 3:\n",
        "    print(\"Data is a 3D array.\")\n",
        "elif len(data_shape) == 2:\n",
        "    print(\"Data is a 2D array.\")\n",
        "else:\n",
        "    print(\"Data has a different number of dimensions.\")\n"
      ],
      "metadata": {
        "colab": {
          "base_uri": "https://localhost:8080/"
        },
        "id": "Pi1X0GfJKC6T",
        "outputId": "d192321c-9182-4fcb-ac6f-f139e1fbee91"
      },
      "execution_count": null,
      "outputs": [
        {
          "output_type": "stream",
          "name": "stdout",
          "text": [
            "Data is a 2D array.\n"
          ]
        }
      ]
    },
    {
      "cell_type": "code",
      "source": [
        "import scipy\n",
        "from scipy.optimize import curve_fit\n"
      ],
      "metadata": {
        "id": "FeOk3jlfJbq5"
      },
      "execution_count": null,
      "outputs": []
    },
    {
      "cell_type": "code",
      "source": [
        "# Load the stacked dark frame fits data\n",
        "dark_frame_file = 'capture_4000.0_4250.0_0.fits'\n",
        "hdul = fits.open(dark_frame_file)\n",
        "dark_frame_data = hdul[0].data\n",
        "\n",
        "# Flatten the 2D data array to a 1D vector\n",
        "dark_frame_data_flat = dark_frame_data.flatten()\n",
        "\n",
        "# Calculate the mean or median pixel value\n",
        "mean_pixel_value = np.mean(dark_frame_data_flat)  # or np.median(dark_frame_data_flat)\n",
        "\n",
        "# Obtain the exposure time from the FITS header\n",
        "exposure_time = hdul[0].header['DITSER'] / 1000.0  # Convert from ms to seconds\n",
        "#exposure_time = 40  # Convert from ms to seconds\n",
        "\n",
        "# Perform a linear fit or other fitting method\n",
        "# Modify the fitting method and code according to your needs\n",
        "\n",
        "# Example: Linear fit\n",
        "x = np.array([exposure_time])\n",
        "y = np.array([mean_pixel_value])\n",
        "\n",
        "# Linear regression\n",
        "slope, intercept = np.polyfit(x, y, 1)\n",
        "\n",
        "# Calculate dark current (slope)\n",
        "dark_current = slope\n",
        "\n",
        "print(\"Dark Current: {:.2f} e-/s\".format(dark_current))\n"
      ],
      "metadata": {
        "colab": {
          "base_uri": "https://localhost:8080/"
        },
        "id": "XbNt6qZSKd9u",
        "outputId": "4e9c7448-9e5e-452b-b9c1-64bba5f60266"
      },
      "execution_count": null,
      "outputs": [
        {
          "output_type": "stream",
          "name": "stdout",
          "text": [
            "Dark Current: 526.81 e-/s\n"
          ]
        },
        {
          "output_type": "stream",
          "name": "stderr",
          "text": [
            "/usr/local/lib/python3.10/dist-packages/IPython/core/interactiveshell.py:3553: RankWarning: Polyfit may be poorly conditioned\n",
            "  exec(code_obj, self.user_global_ns, self.user_ns)\n"
          ]
        }
      ]
    },
    {
      "cell_type": "markdown",
      "source": [
        "Modified code:"
      ],
      "metadata": {
        "id": "GcTxoOGPMAbI"
      }
    },
    {
      "cell_type": "code",
      "source": [
        "# Load the stacked dark frame fits data\n",
        "dark_frame_file = 'capture_4000.0_4250.0_0.fits'\n",
        "hdul = fits.open(dark_frame_file)\n",
        "dark_frame_data = hdul[0].data\n",
        "\n",
        "# Flatten the 2D data array to a 1D vector\n",
        "dark_frame_data_flat = dark_frame_data.flatten()\n",
        "\n",
        "# Calculate the mean or median pixel value\n",
        "mean_pixel_value = np.mean(dark_frame_data_flat)  # or np.median(dark_frame_data_flat)\n",
        "\n",
        "# Obtain the exposure time from the FITS header\n",
        "exposure_time = hdul[0].header['DITSER'] / 1000.0  # Convert from ms to seconds\n",
        "\n",
        "gain = 4.3\n",
        "\n",
        "\n",
        "# Linear fit\n",
        "x = np.array([exposure_time])\n",
        "y = np.array([mean_pixel_value])\n",
        "\n",
        "# Linear regression\n",
        "slope, intercept = np.polyfit(x, y, 1)\n",
        "\n",
        "# Calculate dark current\n",
        "dark_current = slope * gain\n",
        "\n",
        "print(\"Dark Current: {:.2f} e-/s\".format(dark_current))\n",
        "\n"
      ],
      "metadata": {
        "colab": {
          "base_uri": "https://localhost:8080/"
        },
        "id": "-LdekwUiKkrm",
        "outputId": "858394ed-40dc-4b3c-ff69-fa0f3928d48f"
      },
      "execution_count": null,
      "outputs": [
        {
          "output_type": "stream",
          "name": "stdout",
          "text": [
            "Dark Current: 1132.65 e-/s\n"
          ]
        },
        {
          "output_type": "stream",
          "name": "stderr",
          "text": [
            "/usr/local/lib/python3.10/dist-packages/IPython/core/interactiveshell.py:3553: RankWarning: Polyfit may be poorly conditioned\n",
            "  exec(code_obj, self.user_global_ns, self.user_ns)\n"
          ]
        }
      ]
    },
    {
      "cell_type": "code",
      "source": [
        "import numpy as np\n",
        "from astropy.io import fits\n",
        "\n",
        "# Assuming I have the stacked dark frame FITS file\n",
        "dark_frame_path = 'capture_4000.0_4250.0_0.fits'\n",
        "\n",
        "exposure_time = hdul[0].header['DITSER'] / 1000.0  # Convert from ms to seconds\n",
        "# Read the stacked dark frame\n",
        "with fits.open(dark_frame_path) as hdul:\n",
        "    dark_frame = hdul[0].data\n",
        "\n",
        "# Calculate the dark current\n",
        "dark_current = np.mean(dark_frame) / exposure_time\n",
        "\n",
        "print('Estimated Dark Current:', dark_current, 'electrons per pixel per second')\n"
      ],
      "metadata": {
        "colab": {
          "base_uri": "https://localhost:8080/"
        },
        "id": "XZFj6S6xSM9z",
        "outputId": "998be084-7b38-4de7-cb35-a87379a3e6ff"
      },
      "execution_count": null,
      "outputs": [
        {
          "output_type": "stream",
          "name": "stdout",
          "text": [
            "Estimated Dark Current: 526.8141912244777 electrons per pixel per second\n"
          ]
        }
      ]
    }
  ]
}