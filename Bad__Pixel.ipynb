{
  "nbformat": 4,
  "nbformat_minor": 0,
  "metadata": {
    "colab": {
      "provenance": []
    },
    "kernelspec": {
      "name": "python3",
      "display_name": "Python 3"
    },
    "language_info": {
      "name": "python"
    }
  },
  "cells": [
    {
      "cell_type": "code",
      "source": [
        "import numpy as np\n",
        "from astropy.io import fits\n",
        "\n",
        "def calculate_bad_pixels(bias_frame, dark_frame, threshold_dead, threshold_hot):\n",
        "    # Calculate the pixel differences between bias and dark frames\n",
        "    pixel_diff = dark_frame - bias_frame\n",
        "\n",
        "    # Initialize empty arrays to store bad pixel masks\n",
        "    dead_pixels = np.zeros_like(pixel_diff, dtype=bool)\n",
        "    hot_pixels = np.zeros_like(pixel_diff, dtype=bool)\n",
        "    unstable_pixels = np.zeros_like(pixel_diff, dtype=bool)\n",
        "\n",
        "    # Identify dead pixels\n",
        "    dead_pixels = np.abs(pixel_diff) < threshold_dead\n",
        "\n",
        "    # Identify hot pixels\n",
        "    hot_pixels = pixel_diff > threshold_hot\n",
        "\n",
        "    # Identify unstable pixels\n",
        "    unstable_pixels = np.logical_and(pixel_diff > threshold_dead, pixel_diff <= threshold_hot)\n",
        "\n",
        "    return dead_pixels, hot_pixels, unstable_pixels\n",
        "\n",
        "# Load the bias frame and dark frame from FITS files\n",
        "bias_file = 'capture_0.033_20.033_0.fits'\n",
        "dark_file = 'capture_4000.0_4250.0_0.fits'\n",
        "\n",
        "with fits.open(bias_file) as bias_hdul:\n",
        "    bias_frame = bias_hdul[0].data.astype(float)  # Convert to float to ensure correct subtraction\n",
        "\n",
        "with fits.open(dark_file) as dark_hdul:\n",
        "    dark_frame = dark_hdul[0].data.astype(float)  # Convert to float to ensure correct subtraction\n",
        "\n",
        "# Example threshold values for dead and hot pixels\n",
        "threshold_dead = 10\n",
        "threshold_hot = 100\n",
        "\n",
        "# Calculate bad pixels\n",
        "dead_pixels, hot_pixels, unstable_pixels = calculate_bad_pixels(bias_frame, dark_frame, threshold_dead, threshold_hot)\n",
        "\n",
        "# Count the number of individual pixels for each type of bad pixel\n",
        "num_dead_pixels = np.count_nonzero(dead_pixels)\n",
        "num_hot_pixels = np.count_nonzero(hot_pixels)\n",
        "num_unstable_pixels = np.count_nonzero(unstable_pixels)\n",
        "\n",
        "print(\"Number of dead pixels:\", num_dead_pixels)\n",
        "print(\"Number of hot pixels:\", num_hot_pixels)\n",
        "print(\"Number of unstable pixels:\", num_unstable_pixels)\n"
      ],
      "metadata": {
        "colab": {
          "base_uri": "https://localhost:8080/"
        },
        "id": "IhDbdMfAXfjT",
        "outputId": "8e957e05-9769-4306-9b78-1a219a202bef"
      },
      "execution_count": 9,
      "outputs": [
        {
          "output_type": "stream",
          "name": "stdout",
          "text": [
            "Number of dead pixels: 451\n",
            "Number of hot pixels: 1251541\n",
            "Number of unstable pixels: 94724\n"
          ]
        }
      ]
    },
    {
      "cell_type": "markdown",
      "source": [
        "Modifying code!!!"
      ],
      "metadata": {
        "id": "DlIKT-3SX15F"
      }
    },
    {
      "cell_type": "code",
      "source": [
        "import numpy as np\n",
        "from astropy.io import fits\n",
        "\n",
        "def calculate_bad_pixels(bias_frame, dark_frame, threshold_sigma):\n",
        "    # Calculate the pixel differences between bias and dark frames\n",
        "    pixel_diff = dark_frame - bias_frame\n",
        "\n",
        "    # Calculate the mean and standard deviation of the pixel differences\n",
        "    mean_diff = np.mean(pixel_diff)\n",
        "    std_diff = np.std(pixel_diff)\n",
        "\n",
        "    # Calculate the threshold based on the specified number of sigmas\n",
        "    threshold = threshold_sigma * std_diff\n",
        "\n",
        "    # Identify bad pixels based on the threshold\n",
        "    bad_pixels = np.abs(pixel_diff) > threshold\n",
        "\n",
        "    return bad_pixels\n",
        "\n",
        "# Load the bias frame and dark frame from FITS files\n",
        "bias_file = 'capture_0.033_20.033_0.fits'\n",
        "dark_file = 'capture_4000.0_4250.0_0.fits'\n",
        "\n",
        "with fits.open(bias_file) as bias_hdul:\n",
        "    bias_frame = bias_hdul[0].data.astype(float)  # Convert to float to ensure correct subtraction\n",
        "\n",
        "with fits.open(dark_file) as dark_hdul:\n",
        "    dark_frame = dark_hdul[0].data.astype(float)  # Convert to float to ensure correct subtraction\n",
        "\n",
        "threshold_sigma = 3\n",
        "\n",
        "# Calculate bad pixels\n",
        "bad_pixels = calculate_bad_pixels(bias_frame, dark_frame, threshold_sigma)\n",
        "\n",
        "num_bad_pixels = np.count_nonzero(bad_pixels)\n",
        "\n",
        "print(\"Number of bad pixels:\", num_bad_pixels)\n"
      ],
      "metadata": {
        "colab": {
          "base_uri": "https://localhost:8080/"
        },
        "id": "ktTToe5aXxeJ",
        "outputId": "4c687ea7-55b8-45f1-eb9b-4bd74cf49ff7"
      },
      "execution_count": 10,
      "outputs": [
        {
          "output_type": "stream",
          "name": "stdout",
          "text": [
            "Number of bad pixels: 7031\n"
          ]
        }
      ]
    }
  ]
}